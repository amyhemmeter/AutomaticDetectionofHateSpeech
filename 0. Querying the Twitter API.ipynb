{
 "cells": [
  {
   "cell_type": "markdown",
   "metadata": {},
   "source": [
    "Import the necessary packages"
   ]
  },
  {
   "cell_type": "code",
   "execution_count": 1,
   "metadata": {
    "collapsed": true
   },
   "outputs": [],
   "source": [
    "#!pip install package\n",
    "\n",
    "import numpy as np\n",
    "import pandas as pd\n",
    "import tweepy\n",
    "import pprint, time\n",
    "from math import ceil"
   ]
  },
  {
   "cell_type": "markdown",
   "metadata": {},
   "source": [
    "Import the original csv file from the GitHub account, which is in this folder."
   ]
  },
  {
   "cell_type": "code",
   "execution_count": 2,
   "metadata": {
    "collapsed": true
   },
   "outputs": [],
   "source": [
    "hs = pd.read_csv('NAACL_SRW_2016.csv', index_col=0, header=None)\n",
    "hs = hs.reset_index()"
   ]
  },
  {
   "cell_type": "markdown",
   "metadata": {},
   "source": [
    "Rename column headings, reset ID to not be the ID number"
   ]
  },
  {
   "cell_type": "code",
   "execution_count": 3,
   "metadata": {},
   "outputs": [
    {
     "name": "stdout",
     "output_type": "stream",
     "text": [
      "                   ID   Class\n",
      "0  572342978255048705  racism\n",
      "1  572341498827522049  racism\n",
      "2  572340476503724032  racism\n",
      "3  572334712804384768  racism\n",
      "4  572332655397629952  racism\n"
     ]
    }
   ],
   "source": [
    "hs = hs.rename(columns={0: 'ID', 1: 'Class'})\n",
    "hs.Class = hs.Class.astype('str')\n",
    "print(hs.head())"
   ]
  },
  {
   "cell_type": "markdown",
   "metadata": {},
   "source": [
    "Determine how big the dataset is (rows, columns)"
   ]
  },
  {
   "cell_type": "code",
   "execution_count": 38,
   "metadata": {},
   "outputs": [
    {
     "data": {
      "text/plain": [
       "16907"
      ]
     },
     "execution_count": 38,
     "metadata": {},
     "output_type": "execute_result"
    }
   ],
   "source": [
    "len(hs)"
   ]
  },
  {
   "cell_type": "markdown",
   "metadata": {
    "collapsed": true,
    "scrolled": true
   },
   "source": [
    "Query the Twitter API to get the tweets from the IDS. Get various key's from Twitter developer website (dev.twitter.com). Run 167 loops of 100 tweets each: first, subset the dataframe by the 100 tweets of each iteration (line 14). Then, define an object \"tweets\" which actually queries the Twitter API for the IDs (fed in list form) of that subset of tweets. Then add those tweets to an existing list, tweet_list, initialized to an empty list in line 10. Finally, sleep for 60 seconds between each loop to avoid breaking the API rate limit. "
   ]
  },
  {
   "cell_type": "code",
   "execution_count": 1,
   "metadata": {
    "scrolled": true
   },
   "outputs": [
    {
     "ename": "NameError",
     "evalue": "name 'tweepy' is not defined",
     "output_type": "error",
     "traceback": [
      "\u001b[1;31m---------------------------------------------------------------------------\u001b[0m",
      "\u001b[1;31mNameError\u001b[0m                                 Traceback (most recent call last)",
      "\u001b[1;32m<ipython-input-1-7b8a42171bcb>\u001b[0m in \u001b[0;36m<module>\u001b[1;34m()\u001b[0m\n\u001b[0;32m      5\u001b[0m \u001b[0maccess_token\u001b[0m \u001b[1;33m=\u001b[0m \u001b[1;34m\"Use Yours\"\u001b[0m\u001b[1;33m\u001b[0m\u001b[0m\n\u001b[0;32m      6\u001b[0m \u001b[0maccess_token_secret\u001b[0m \u001b[1;33m=\u001b[0m \u001b[1;34m\"Use Yours\"\u001b[0m\u001b[1;33m\u001b[0m\u001b[0m\n\u001b[1;32m----> 7\u001b[1;33m \u001b[0mauth\u001b[0m \u001b[1;33m=\u001b[0m \u001b[0mtweepy\u001b[0m\u001b[1;33m.\u001b[0m\u001b[0mOAuthHandler\u001b[0m\u001b[1;33m(\u001b[0m\u001b[0mconsumer_key\u001b[0m\u001b[1;33m,\u001b[0m \u001b[0mconsumer_secret\u001b[0m\u001b[1;33m)\u001b[0m\u001b[1;33m\u001b[0m\u001b[0m\n\u001b[0m\u001b[0;32m      8\u001b[0m \u001b[0mauth\u001b[0m\u001b[1;33m.\u001b[0m\u001b[0mset_access_token\u001b[0m\u001b[1;33m(\u001b[0m\u001b[0maccess_token\u001b[0m\u001b[1;33m,\u001b[0m \u001b[0maccess_token_secret\u001b[0m\u001b[1;33m)\u001b[0m\u001b[1;33m\u001b[0m\u001b[0m\n\u001b[0;32m      9\u001b[0m \u001b[1;33m\u001b[0m\u001b[0m\n",
      "\u001b[1;31mNameError\u001b[0m: name 'tweepy' is not defined"
     ]
    }
   ],
   "source": [
    "####CHANGE THE KEYS TO YOUR OWN USING THE TWITTER API####\n",
    "\n",
    "consumer_key = \"Use Yours\"\n",
    "consumer_secret = \"Use Yours\"\n",
    "access_token = \"Use Yours\"\n",
    "access_token_secret = \"Use Yours\"\n",
    "auth = tweepy.OAuthHandler(consumer_key, consumer_secret)\n",
    "auth.set_access_token(access_token, access_token_secret)\n",
    "\n",
    "api = tweepy.API(auth)\n",
    "\n",
    "tweet_list = []\n",
    "\n",
    "\n",
    "for i in range(0, ceil(len(hs.ID) / 100)):\n",
    "    ids = hs.ID.iloc[i*100 : (i+1)*100]\n",
    "    tweets = api.statuses_lookup(list(ids), True)\n",
    "    tweet_list.extend(list(tweets))\n",
    "    time.sleep(60)"
   ]
  },
  {
   "cell_type": "markdown",
   "metadata": {},
   "source": [
    "Choose one tweet and print an object from that tweet for testing purposes, here the first tweet t and its object \"text.\" "
   ]
  },
  {
   "cell_type": "code",
   "execution_count": 12,
   "metadata": {},
   "outputs": [
    {
     "data": {
      "text/plain": [
       "16035"
      ]
     },
     "execution_count": 12,
     "metadata": {},
     "output_type": "execute_result"
    }
   ],
   "source": [
    "t = tweet_list[0]\n",
    "len(tweet_list)"
   ]
  },
  {
   "cell_type": "markdown",
   "metadata": {
    "collapsed": true
   },
   "source": [
    "After you've run the querying code for at least three hours, you can create lists of various objects from the tweets. Here is how you do that for the tweets:"
   ]
  },
  {
   "cell_type": "code",
   "execution_count": 17,
   "metadata": {},
   "outputs": [
    {
     "name": "stdout",
     "output_type": "stream",
     "text": [
      "                                              Tweets\n",
      "0  @ummayman90 @wood_brwood333 For example, in Me...\n",
      "1  @ummayman90 Again, your entire concept of god ...\n",
      "2  @anjemchoudary Your prophet was a rapist, murd...\n",
      "3  RT @DilanaKurdi: Yazidi children who are taken...\n",
      "4  @anjemchoudary Accepting the idea that Allah o...\n"
     ]
    }
   ],
   "source": [
    "t= tweet_list[0]\n",
    "\n",
    "tweets = []\n",
    "\n",
    "for i in range(16035):\n",
    "\tt = tweet_list[i]\n",
    "\ttweets.append(t.text)\n",
    "    \n",
    "#print(tweets)"
   ]
  },
  {
   "cell_type": "markdown",
   "metadata": {},
   "source": [
    "And authors. Here I've also included code for how to write the list to a csv file so that we can use it later."
   ]
  },
  {
   "cell_type": "code",
   "execution_count": 19,
   "metadata": {
    "collapsed": true
   },
   "outputs": [],
   "source": [
    "authors = []\n",
    "t=tweet_list[0]\n",
    "\n",
    "for i in range(16035):\n",
    "\tt = tweet_list[i]\n",
    "\tauthors.append(t.author.screen_name)\n",
    "\n",
    "#print(authors)"
   ]
  },
  {
   "cell_type": "markdown",
   "metadata": {},
   "source": [
    "Locations:"
   ]
  },
  {
   "cell_type": "code",
   "execution_count": 21,
   "metadata": {
    "collapsed": true
   },
   "outputs": [],
   "source": [
    "locations = []\n",
    "t=tweet_list[0]\n",
    "\n",
    "for i in range(16035):\n",
    "\tt = tweet_list[i]\n",
    "\tlocations.append(t.author.location)\n",
    "\n",
    "#print(locations)"
   ]
  },
  {
   "cell_type": "markdown",
   "metadata": {},
   "source": [
    "\"Descriptions\" - Twitter bios:"
   ]
  },
  {
   "cell_type": "code",
   "execution_count": 23,
   "metadata": {
    "collapsed": true
   },
   "outputs": [],
   "source": [
    "descriptions = []\n",
    "t=tweet_list[0]\n",
    "\n",
    "for i in range(16035):\n",
    "\tt = tweet_list[i]\n",
    "\tdescriptions.append(t.author.description)\n",
    "\n",
    "#print(descriptions)"
   ]
  },
  {
   "cell_type": "markdown",
   "metadata": {},
   "source": [
    "Number of followers:"
   ]
  },
  {
   "cell_type": "code",
   "execution_count": 25,
   "metadata": {
    "collapsed": true
   },
   "outputs": [],
   "source": [
    "followers_count = []\n",
    "t=tweet_list[0]\n",
    "\n",
    "for i in range(16035):\n",
    "\tt = tweet_list[i]\n",
    "\tfollowers_count.append(t.author.followers_count)\n",
    "\n",
    "#print(followers_count)"
   ]
  },
  {
   "cell_type": "markdown",
   "metadata": {},
   "source": [
    "Time tweeted:"
   ]
  },
  {
   "cell_type": "code",
   "execution_count": 28,
   "metadata": {
    "collapsed": true
   },
   "outputs": [],
   "source": [
    "time_tweeted = []\n",
    "t=tweet_list[0]\n",
    "\n",
    "for i in range(16035):\n",
    "\tt = tweet_list[i]\n",
    "\ttime_tweeted.append(t.created_at)\n",
    "\n",
    "#print(time_tweeted)"
   ]
  },
  {
   "cell_type": "markdown",
   "metadata": {},
   "source": [
    "User mentions:"
   ]
  },
  {
   "cell_type": "code",
   "execution_count": 30,
   "metadata": {
    "collapsed": true
   },
   "outputs": [],
   "source": [
    "user_mentions = []\n",
    "t=tweet_list[0]\n",
    "\n",
    "for i in range(16035):\n",
    "\tt = tweet_list[i]\n",
    "\tuser_mentions.append(t.entities['user_mentions'])\n",
    "#print(user_mentions)"
   ]
  },
  {
   "cell_type": "markdown",
   "metadata": {},
   "source": [
    "Hashtags:"
   ]
  },
  {
   "cell_type": "code",
   "execution_count": 33,
   "metadata": {
    "collapsed": true
   },
   "outputs": [],
   "source": [
    "hashtags = []\n",
    "t=tweet_list[0]\n",
    "\n",
    "for i in range(16035):\n",
    "\tt = tweet_list[i]\n",
    "\thashtags.append(t.entities['hashtags'])\n",
    "\n",
    "#print(hashtags)"
   ]
  },
  {
   "cell_type": "markdown",
   "metadata": {},
   "source": [
    "Favorite counts:"
   ]
  },
  {
   "cell_type": "code",
   "execution_count": 35,
   "metadata": {
    "collapsed": true
   },
   "outputs": [],
   "source": [
    "favorite_counts = []\n",
    "t=tweet_list[0]\n",
    "\n",
    "for i in range(16035):\n",
    "\tt = tweet_list[i]\n",
    "\tfavorite_counts.append(t.favorite_count)\n",
    "\n",
    "#print(favorite_counts)"
   ]
  },
  {
   "cell_type": "code",
   "execution_count": 45,
   "metadata": {
    "collapsed": true
   },
   "outputs": [],
   "source": [
    "id_str = []\n",
    "t = tweet_list[0]\n",
    "\n",
    "for i in range(16035):\n",
    "\tt = tweet_list[i]\n",
    "\tid_str.append(t.id_str)\n",
    "    \n",
    "#print(id_str)"
   ]
  },
  {
   "cell_type": "code",
   "execution_count": 46,
   "metadata": {
    "collapsed": true
   },
   "outputs": [],
   "source": [
    "tweet_info = pd.DataFrame({'Tweets': tweets, \"ID\": id_str, \"Authors\": authors, \"Locations\": locations, \"Descriptions\": descriptions,\n",
    "                          \"Follower Count\":followers_count, \"Time Tweeted\": time_tweeted, \"User Mentions\": user_mentions, \n",
    "                           \"Hashtags\": hashtags, \"Favorite Count\":favorite_counts})\n",
    "#print(tweet_info.head())"
   ]
  },
  {
   "cell_type": "code",
   "execution_count": 43,
   "metadata": {
    "collapsed": true
   },
   "outputs": [],
   "source": [
    "tweet_info.to_csv('hatespeech.csv')"
   ]
  }
 ],
 "metadata": {
  "kernelspec": {
   "display_name": "Python 3",
   "language": "python",
   "name": "python3"
  },
  "language_info": {
   "codemirror_mode": {
    "name": "ipython",
    "version": 3
   },
   "file_extension": ".py",
   "mimetype": "text/x-python",
   "name": "python",
   "nbconvert_exporter": "python",
   "pygments_lexer": "ipython3",
   "version": "3.6.1"
  }
 },
 "nbformat": 4,
 "nbformat_minor": 2
}
